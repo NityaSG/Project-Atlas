{
 "cells": [
  {
   "cell_type": "code",
   "execution_count": 2,
   "metadata": {},
   "outputs": [],
   "source": [
    "query = 'ibuprofen'\n",
    "date_range ='2023-01-20-2023-10-20'\n",
    "num_articles = '1'\n",
    "api_key = \"41cacc77e4250a4e550ef9b0dbca2b168209\"\n",
    "base_url = \"https://eutils.ncbi.nlm.nih.gov/entrez/eutils/\"\n",
    "db = \"pubmed\""
   ]
  },
  {
   "cell_type": "code",
   "execution_count": 5,
   "metadata": {},
   "outputs": [
    {
     "name": "stdout",
     "output_type": "stream",
     "text": [
      "b'<?xml version=\"1.0\" encoding=\"UTF-8\" ?>\\n<!DOCTYPE eSearchResult PUBLIC \"-//NLM//DTD esearch 20060628//EN\" \"https://eutils.ncbi.nlm.nih.gov/eutils/dtd/20060628/esearch.dtd\">\\n<eSearchResult><Count>17848</Count><RetMax>1</RetMax><RetStart>0</RetStart><IdList>\\n<Id>37986869</Id>\\n</IdList><TranslationSet><Translation>     <From>ibuprofen</From>     <To>\"ibuprofen\"[MeSH Terms] OR \"ibuprofen\"[All Fields] OR \"ibuprofen\\'s\"[All Fields] OR \"ibuprofens\"[All Fields]</To>    </Translation></TranslationSet><QueryTranslation>\"ibuprofen\"[MeSH Terms] OR \"ibuprofen\"[All Fields] OR \"ibuprofen s\"[All Fields] OR \"ibuprofens\"[All Fields]</QueryTranslation><WarningList><OutputMessage>Unknown sort schema \\'date\\' ignored</OutputMessage></WarningList></eSearchResult>\\n'\n"
     ]
    }
   ],
   "source": [
    "import requests\n",
    "search_url = f\"{base_url}esearch.fcgi?db={db}&term={query}&retmax={num_articles}&sort=date&api_key={api_key}\"\n",
    "search_response = requests.get(search_url)\n",
    "print(search_response.content)"
   ]
  },
  {
   "cell_type": "code",
   "execution_count": null,
   "metadata": {},
   "outputs": [],
   "source": []
  }
 ],
 "metadata": {
  "kernelspec": {
   "display_name": "base",
   "language": "python",
   "name": "python3"
  },
  "language_info": {
   "codemirror_mode": {
    "name": "ipython",
    "version": 3
   },
   "file_extension": ".py",
   "mimetype": "text/x-python",
   "name": "python",
   "nbconvert_exporter": "python",
   "pygments_lexer": "ipython3",
   "version": "3.8.8"
  }
 },
 "nbformat": 4,
 "nbformat_minor": 2
}
