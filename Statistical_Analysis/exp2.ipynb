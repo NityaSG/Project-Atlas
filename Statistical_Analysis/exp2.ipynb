{
 "cells": [
  {
   "cell_type": "code",
   "execution_count": 20,
   "metadata": {},
   "outputs": [],
   "source": [
    "import pandas as pd\n",
    "df = pd.read_csv('AtlasMaster.csv')\n"
   ]
  },
  {
   "cell_type": "code",
   "execution_count": 21,
   "metadata": {},
   "outputs": [
    {
     "data": {
      "text/html": [
       "<div>\n",
       "<style scoped>\n",
       "    .dataframe tbody tr th:only-of-type {\n",
       "        vertical-align: middle;\n",
       "    }\n",
       "\n",
       "    .dataframe tbody tr th {\n",
       "        vertical-align: top;\n",
       "    }\n",
       "\n",
       "    .dataframe thead th {\n",
       "        text-align: right;\n",
       "    }\n",
       "</style>\n",
       "<table border=\"1\" class=\"dataframe\">\n",
       "  <thead>\n",
       "    <tr style=\"text-align: right;\">\n",
       "      <th></th>\n",
       "      <th>Case Num</th>\n",
       "      <th>Product Name</th>\n",
       "      <th>Event Preferred Term</th>\n",
       "    </tr>\n",
       "  </thead>\n",
       "  <tbody>\n",
       "    <tr>\n",
       "      <th>0</th>\n",
       "      <td>2023-GB-00624</td>\n",
       "      <td>Aciclovir</td>\n",
       "      <td>Acute kidney injury</td>\n",
       "    </tr>\n",
       "    <tr>\n",
       "      <th>1</th>\n",
       "      <td>2023-GB-00748</td>\n",
       "      <td>Aciclovir</td>\n",
       "      <td>Blister</td>\n",
       "    </tr>\n",
       "    <tr>\n",
       "      <th>2</th>\n",
       "      <td>2023-GB-00748</td>\n",
       "      <td>Aciclovir</td>\n",
       "      <td>Paraesthesia</td>\n",
       "    </tr>\n",
       "    <tr>\n",
       "      <th>3</th>\n",
       "      <td>2023-GB-00748</td>\n",
       "      <td>Aciclovir</td>\n",
       "      <td>Paraesthesia oral</td>\n",
       "    </tr>\n",
       "    <tr>\n",
       "      <th>4</th>\n",
       "      <td>2023-GB-00869</td>\n",
       "      <td>Aciclovir</td>\n",
       "      <td>Neurotoxicity</td>\n",
       "    </tr>\n",
       "  </tbody>\n",
       "</table>\n",
       "</div>"
      ],
      "text/plain": [
       "        Case Num Product Name Event Preferred Term\n",
       "0  2023-GB-00624    Aciclovir  Acute kidney injury\n",
       "1  2023-GB-00748    Aciclovir              Blister\n",
       "2  2023-GB-00748    Aciclovir         Paraesthesia\n",
       "3  2023-GB-00748    Aciclovir    Paraesthesia oral\n",
       "4  2023-GB-00869    Aciclovir        Neurotoxicity"
      ]
     },
     "execution_count": 21,
     "metadata": {},
     "output_type": "execute_result"
    }
   ],
   "source": [
    "df.head()"
   ]
  },
  {
   "cell_type": "code",
   "execution_count": 22,
   "metadata": {},
   "outputs": [],
   "source": [
    "target_drug = 'Aciclovir'\n",
    "filtered_df = df[df['Product Name'] == target_drug]"
   ]
  },
  {
   "cell_type": "code",
   "execution_count": 23,
   "metadata": {},
   "outputs": [
    {
     "data": {
      "text/html": [
       "<div>\n",
       "<style scoped>\n",
       "    .dataframe tbody tr th:only-of-type {\n",
       "        vertical-align: middle;\n",
       "    }\n",
       "\n",
       "    .dataframe tbody tr th {\n",
       "        vertical-align: top;\n",
       "    }\n",
       "\n",
       "    .dataframe thead th {\n",
       "        text-align: right;\n",
       "    }\n",
       "</style>\n",
       "<table border=\"1\" class=\"dataframe\">\n",
       "  <thead>\n",
       "    <tr style=\"text-align: right;\">\n",
       "      <th></th>\n",
       "      <th>Case Num</th>\n",
       "      <th>Product Name</th>\n",
       "      <th>Event Preferred Term</th>\n",
       "    </tr>\n",
       "  </thead>\n",
       "  <tbody>\n",
       "    <tr>\n",
       "      <th>0</th>\n",
       "      <td>2023-GB-00624</td>\n",
       "      <td>Aciclovir</td>\n",
       "      <td>Acute kidney injury</td>\n",
       "    </tr>\n",
       "    <tr>\n",
       "      <th>1</th>\n",
       "      <td>2023-GB-00748</td>\n",
       "      <td>Aciclovir</td>\n",
       "      <td>Blister</td>\n",
       "    </tr>\n",
       "    <tr>\n",
       "      <th>2</th>\n",
       "      <td>2023-GB-00748</td>\n",
       "      <td>Aciclovir</td>\n",
       "      <td>Paraesthesia</td>\n",
       "    </tr>\n",
       "    <tr>\n",
       "      <th>3</th>\n",
       "      <td>2023-GB-00748</td>\n",
       "      <td>Aciclovir</td>\n",
       "      <td>Paraesthesia oral</td>\n",
       "    </tr>\n",
       "    <tr>\n",
       "      <th>4</th>\n",
       "      <td>2023-GB-00869</td>\n",
       "      <td>Aciclovir</td>\n",
       "      <td>Neurotoxicity</td>\n",
       "    </tr>\n",
       "    <tr>\n",
       "      <th>5</th>\n",
       "      <td>2023-GB-01372</td>\n",
       "      <td>Aciclovir</td>\n",
       "      <td>Adverse drug reaction</td>\n",
       "    </tr>\n",
       "    <tr>\n",
       "      <th>6</th>\n",
       "      <td>2023-GB-02025</td>\n",
       "      <td>Aciclovir</td>\n",
       "      <td>Chronic graft versus host disease in skin</td>\n",
       "    </tr>\n",
       "    <tr>\n",
       "      <th>8</th>\n",
       "      <td>2023-GB-02430</td>\n",
       "      <td>Aciclovir</td>\n",
       "      <td>Abdominal pain</td>\n",
       "    </tr>\n",
       "  </tbody>\n",
       "</table>\n",
       "</div>"
      ],
      "text/plain": [
       "        Case Num Product Name                       Event Preferred Term\n",
       "0  2023-GB-00624    Aciclovir                        Acute kidney injury\n",
       "1  2023-GB-00748    Aciclovir                                    Blister\n",
       "2  2023-GB-00748    Aciclovir                               Paraesthesia\n",
       "3  2023-GB-00748    Aciclovir                          Paraesthesia oral\n",
       "4  2023-GB-00869    Aciclovir                              Neurotoxicity\n",
       "5  2023-GB-01372    Aciclovir                      Adverse drug reaction\n",
       "6  2023-GB-02025    Aciclovir  Chronic graft versus host disease in skin\n",
       "8  2023-GB-02430    Aciclovir                             Abdominal pain"
      ]
     },
     "execution_count": 23,
     "metadata": {},
     "output_type": "execute_result"
    }
   ],
   "source": [
    "filtered_df"
   ]
  },
  {
   "cell_type": "code",
   "execution_count": 29,
   "metadata": {},
   "outputs": [],
   "source": [
    "b=int(filtered_df['Case Num'].count())"
   ]
  },
  {
   "cell_type": "code",
   "execution_count": 30,
   "metadata": {},
   "outputs": [
    {
     "name": "stdout",
     "output_type": "stream",
     "text": [
      "8\n"
     ]
    }
   ],
   "source": [
    "print(b)"
   ]
  },
  {
   "cell_type": "code",
   "execution_count": 31,
   "metadata": {},
   "outputs": [
    {
     "name": "stdout",
     "output_type": "stream",
     "text": [
      "Adverse drug reaction                        1\n",
      "Abdominal pain                               1\n",
      "Neurotoxicity                                1\n",
      "Blister                                      1\n",
      "Paraesthesia oral                            1\n",
      "Acute kidney injury                          1\n",
      "Chronic graft versus host disease in skin    1\n",
      "Paraesthesia                                 1\n",
      "Name: Event Preferred Term, dtype: int64\n"
     ]
    }
   ],
   "source": [
    "symptom_counts = filtered_df['Event Preferred Term'].value_counts()\n",
    "print(symptom_counts)"
   ]
  },
  {
   "cell_type": "code",
   "execution_count": 17,
   "metadata": {},
   "outputs": [
    {
     "name": "stdout",
     "output_type": "stream",
     "text": [
      "{'Adverse drug reaction': 1, 'Abdominal pain': 1, 'Neurotoxicity': 1, 'Blister': 1, 'Paraesthesia oral': 1, 'Acute kidney injury': 1, 'Chronic graft versus host disease in skin': 1, 'Paraesthesia': 1}\n"
     ]
    }
   ],
   "source": [
    "symptom_counts = filtered_df['Event Preferred Term'].value_counts()\n",
    "symptom_dict = symptom_counts.to_dict()\n",
    "\n",
    "# Now, symptom_dict is a dictionary where the keys are symptom names and the values are their counts\n",
    "print(symptom_dict)"
   ]
  },
  {
   "cell_type": "code",
   "execution_count": 19,
   "metadata": {},
   "outputs": [
    {
     "name": "stdout",
     "output_type": "stream",
     "text": [
      "{'Adverse drug reaction': 1, 'Abdominal pain': 1, 'Neurotoxicity': 1, 'Blister': 1, 'Paraesthesia oral': 1, 'Acute kidney injury': 1, 'Chronic graft versus host disease in skin': 1, 'Paraesthesia': 1}\n"
     ]
    }
   ],
   "source": [
    "min_count = 0  # replace with your desired minimum count\n",
    "filtered_dict = {k: v for k, v in symptom_dict.items() if v >= min_count}\n",
    "\n",
    "# Now, filtered_dict is a dictionary where the keys are symptom names and the values are their counts,\n",
    "# but only for symptoms with a count greater than or equal to min_count\n",
    "print(filtered_dict)\n"
   ]
  },
  {
   "cell_type": "markdown",
   "metadata": {},
   "source": [
    "## Put a for loop here for all the symptoms"
   ]
  },
  {
   "cell_type": "code",
   "execution_count": 37,
   "metadata": {},
   "outputs": [],
   "source": [
    "a=filtered_dict['Abdominal pain']"
   ]
  },
  {
   "cell_type": "code",
   "execution_count": 38,
   "metadata": {},
   "outputs": [
    {
     "name": "stdout",
     "output_type": "stream",
     "text": [
      "The event term 'Abdominal pain' occurs 1 times.\n"
     ]
    }
   ],
   "source": [
    "event_term = 'Abdominal pain'  # replace with your desired event term\n",
    "event_term_count = df['Event Preferred Term'].value_counts()[event_term]\n",
    "\n",
    "print(f\"The event term '{event_term}' occurs {event_term_count} times.\")\n",
    "c=event_term_count-a"
   ]
  },
  {
   "cell_type": "code",
   "execution_count": 41,
   "metadata": {},
   "outputs": [],
   "source": [
    "d_filtered_df = df[(df['Product Name'] != 'Aciclovir') & (df['Event Preferred Term'] != event_term)]\n",
    "d=count = len(d_filtered_df)"
   ]
  },
  {
   "cell_type": "code",
   "execution_count": 43,
   "metadata": {},
   "outputs": [],
   "source": [
    "d\n",
    "import math"
   ]
  },
  {
   "cell_type": "code",
   "execution_count": 45,
   "metadata": {},
   "outputs": [
    {
     "name": "stdout",
     "output_type": "stream",
     "text": [
      "denominator has a null value\n"
     ]
    }
   ],
   "source": [
    "ROR=0\n",
    "if(c==0 or b==0):\n",
    "    ROR=math.nan\n",
    "    print(\"denominator has a null value\")\n",
    "else:\n",
    "    ROR = (a*d) / (b*c)  # replace with your ROR calculation if different\n",
    "\n",
    "    lower_bound = math.exp(math.log(ROR) - (1.96 * math.sqrt(1/a + 1/b + 1/c + 1/d)))\n",
    "    upper_bound = math.exp(math.log(ROR) + (1.96 * math.sqrt(1/a + 1/b + 1/c + 1/d)))\n",
    "\n",
    "    print(f\"95% CI Lower Bound: {lower_bound}\")\n",
    "    print(f\"95% CI Upper Bound: {upper_bound}\")\n",
    "\n",
    "    "
   ]
  },
  {
   "cell_type": "code",
   "execution_count": null,
   "metadata": {},
   "outputs": [],
   "source": []
  }
 ],
 "metadata": {
  "kernelspec": {
   "display_name": "base",
   "language": "python",
   "name": "python3"
  },
  "language_info": {
   "codemirror_mode": {
    "name": "ipython",
    "version": 3
   },
   "file_extension": ".py",
   "mimetype": "text/x-python",
   "name": "python",
   "nbconvert_exporter": "python",
   "pygments_lexer": "ipython3",
   "version": "3.8.8"
  }
 },
 "nbformat": 4,
 "nbformat_minor": 2
}
